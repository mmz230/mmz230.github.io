{
 "cells": [
  {
   "cell_type": "markdown",
   "metadata": {
    "cell_style": "center",
    "slideshow": {
     "slide_type": "slide"
    }
   },
   "source": [
    " <img src=\"img/Slide5.png\" width=1200 height=800 />\n"
   ]
  },
  {
   "cell_type": "markdown",
   "metadata": {
    "slideshow": {
     "slide_type": "slide"
    }
   },
   "source": [
    " <img src=\"img/Slide6.png\" width=1200 height=800 />\n"
   ]
  },
  {
   "cell_type": "markdown",
   "metadata": {
    "cell_style": "center",
    "slideshow": {
     "slide_type": "slide"
    },
    "toc": true
   },
   "source": [
    "<h1>Table of Contents<span class=\"tocSkip\"></span></h1>\n",
    "<div class=\"toc\"><ul class=\"toc-item\"><li><span><a href=\"#Data-and-Variables\" data-toc-modified-id=\"Data-and-Variables-1\"><span class=\"toc-item-num\">1&nbsp;&nbsp;</span>Data and Variables</a></span><ul class=\"toc-item\"><li><span><a href=\"#Learning-Outcomes\" data-toc-modified-id=\"Learning-Outcomes-1.1\"><span class=\"toc-item-num\">1.1&nbsp;&nbsp;</span>Learning Outcomes</a></span></li><li><span><a href=\"#Tabular-Data\" data-toc-modified-id=\"Tabular-Data-1.2\"><span class=\"toc-item-num\">1.2&nbsp;&nbsp;</span>Tabular Data</a></span></li><li><span><a href=\"#Field-Types\" data-toc-modified-id=\"Field-Types-1.3\"><span class=\"toc-item-num\">1.3&nbsp;&nbsp;</span>Field Types</a></span></li></ul></li><li><span><a href=\"#Field-Segregation\" data-toc-modified-id=\"Field-Segregation-2\"><span class=\"toc-item-num\">2&nbsp;&nbsp;</span>Field Segregation</a></span><ul class=\"toc-item\"><li><ul class=\"toc-item\"><li><span><a href=\"#Example:-Variables/Fields\" data-toc-modified-id=\"Example:-Variables/Fields-2.0.1\"><span class=\"toc-item-num\">2.0.1&nbsp;&nbsp;</span>Example: Variables/Fields</a></span></li></ul></li></ul></li><li><span><a href=\"#Frequency-Distribution\" data-toc-modified-id=\"Frequency-Distribution-3\"><span class=\"toc-item-num\">3&nbsp;&nbsp;</span>Frequency Distribution</a></span><ul class=\"toc-item\"><li><span><a href=\"#Histogram\" data-toc-modified-id=\"Histogram-3.1\"><span class=\"toc-item-num\">3.1&nbsp;&nbsp;</span>Histogram</a></span><ul class=\"toc-item\"><li><span><a href=\"#Histograms-of-Non-numerical-Data\" data-toc-modified-id=\"Histograms-of-Non-numerical-Data-3.1.1\"><span class=\"toc-item-num\">3.1.1&nbsp;&nbsp;</span>Histograms of Non-numerical Data</a></span></li><li><span><a href=\"#Histograms-of-Numerical-Data\" data-toc-modified-id=\"Histograms-of-Numerical-Data-3.1.2\"><span class=\"toc-item-num\">3.1.2&nbsp;&nbsp;</span>Histograms of Numerical Data</a></span></li></ul></li><li><span><a href=\"#Pie-Charts\" data-toc-modified-id=\"Pie-Charts-3.2\"><span class=\"toc-item-num\">3.2&nbsp;&nbsp;</span>Pie-Charts</a></span><ul class=\"toc-item\"><li><span><a href=\"#Example:-Hands-on-Histogram-and-Pie-Chart\" data-toc-modified-id=\"Example:-Hands-on-Histogram-and-Pie-Chart-3.2.1\"><span class=\"toc-item-num\">3.2.1&nbsp;&nbsp;</span>Example: Hands on Histogram and Pie-Chart</a></span></li></ul></li><li><span><a href=\"#Normal-Distribution\" data-toc-modified-id=\"Normal-Distribution-3.3\"><span class=\"toc-item-num\">3.3&nbsp;&nbsp;</span>Normal Distribution</a></span></li></ul></li><li><span><a href=\"#Measures-of-Centrality\" data-toc-modified-id=\"Measures-of-Centrality-4\"><span class=\"toc-item-num\">4&nbsp;&nbsp;</span>Measures of Centrality</a></span><ul class=\"toc-item\"><li><span><a href=\"#Mean\" data-toc-modified-id=\"Mean-4.1\"><span class=\"toc-item-num\">4.1&nbsp;&nbsp;</span>Mean</a></span></li><li><span><a href=\"#Median\" data-toc-modified-id=\"Median-4.2\"><span class=\"toc-item-num\">4.2&nbsp;&nbsp;</span>Median</a></span></li><li><span><a href=\"#Mode\" data-toc-modified-id=\"Mode-4.3\"><span class=\"toc-item-num\">4.3&nbsp;&nbsp;</span>Mode</a></span><ul class=\"toc-item\"><li><span><a href=\"#Example:-Calculate-the-mean,-median-and-mode\" data-toc-modified-id=\"Example:-Calculate-the-mean,-median-and-mode-4.3.1\"><span class=\"toc-item-num\">4.3.1&nbsp;&nbsp;</span>Example: Calculate the mean, median and mode</a></span></li></ul></li></ul></li><li><span><a href=\"#Dispersion-of-a-Distribution\" data-toc-modified-id=\"Dispersion-of-a-Distribution-5\"><span class=\"toc-item-num\">5&nbsp;&nbsp;</span>Dispersion of a Distribution</a></span><ul class=\"toc-item\"><li><span><a href=\"#Range\" data-toc-modified-id=\"Range-5.1\"><span class=\"toc-item-num\">5.1&nbsp;&nbsp;</span>Range</a></span></li><li><span><a href=\"#Interquartile-Range\" data-toc-modified-id=\"Interquartile-Range-5.2\"><span class=\"toc-item-num\">5.2&nbsp;&nbsp;</span>Interquartile Range</a></span></li><li><span><a href=\"#Variance\" data-toc-modified-id=\"Variance-5.3\"><span class=\"toc-item-num\">5.3&nbsp;&nbsp;</span>Variance</a></span></li><li><span><a href=\"#Standard-Deviation\" data-toc-modified-id=\"Standard-Deviation-5.4\"><span class=\"toc-item-num\">5.4&nbsp;&nbsp;</span>Standard Deviation</a></span><ul class=\"toc-item\"><li><span><a href=\"#Example:-Measures-of-Dispersion\" data-toc-modified-id=\"Example:-Measures-of-Dispersion-5.4.1\"><span class=\"toc-item-num\">5.4.1&nbsp;&nbsp;</span>Example: Measures of Dispersion</a></span></li></ul></li><li><span><a href=\"#Box-Plots\" data-toc-modified-id=\"Box-Plots-5.5\"><span class=\"toc-item-num\">5.5&nbsp;&nbsp;</span>Box Plots</a></span></li><li><span><a href=\"#Comparing-Box-Plots\" data-toc-modified-id=\"Comparing-Box-Plots-5.6\"><span class=\"toc-item-num\">5.6&nbsp;&nbsp;</span>Comparing Box Plots</a></span><ul class=\"toc-item\"><li><span><a href=\"#Example:-Box-Plots\" data-toc-modified-id=\"Example:-Box-Plots-5.6.1\"><span class=\"toc-item-num\">5.6.1&nbsp;&nbsp;</span>Example: Box Plots</a></span></li></ul></li></ul></li><li><span><a href=\"#Comparing-Distributions\" data-toc-modified-id=\"Comparing-Distributions-6\"><span class=\"toc-item-num\">6&nbsp;&nbsp;</span>Comparing Distributions</a></span><ul class=\"toc-item\"><li><span><a href=\"#Hypothesis-Testing\" data-toc-modified-id=\"Hypothesis-Testing-6.1\"><span class=\"toc-item-num\">6.1&nbsp;&nbsp;</span>Hypothesis Testing</a></span></li><li><span><a href=\"#P-Value\" data-toc-modified-id=\"P-Value-6.2\"><span class=\"toc-item-num\">6.2&nbsp;&nbsp;</span><em>P</em>-Value</a></span></li><li><span><a href=\"#Typical-Tests\" data-toc-modified-id=\"Typical-Tests-6.3\"><span class=\"toc-item-num\">6.3&nbsp;&nbsp;</span>Typical Tests</a></span><ul class=\"toc-item\"><li><span><a href=\"#Hands-on-Hypothesis-Testing\" data-toc-modified-id=\"Hands-on-Hypothesis-Testing-6.3.1\"><span class=\"toc-item-num\">6.3.1&nbsp;&nbsp;</span>Hands on Hypothesis Testing</a></span></li></ul></li></ul></li><li><span><a href=\"#References:\" data-toc-modified-id=\"References:-7\"><span class=\"toc-item-num\">7&nbsp;&nbsp;</span>References:</a></span><ul class=\"toc-item\"><li><span><a href=\"#Theory:\" data-toc-modified-id=\"Theory:-7.1\"><span class=\"toc-item-num\">7.1&nbsp;&nbsp;</span>Theory:</a></span></li></ul></li></ul></div>"
   ]
  },
  {
   "cell_type": "markdown",
   "metadata": {
    "cell_style": "center",
    "slideshow": {
     "slide_type": "slide"
    }
   },
   "source": [
    "# Data and Variables\n",
    "> 📌 Data can be viewed as the raw material from which information is obtained.  \n",
    "> 📌 Variables add meaning to the data.\n"
   ]
  },
  {
   "cell_type": "markdown",
   "metadata": {
    "slideshow": {
     "slide_type": "slide"
    }
   },
   "source": [
    "## Learning Outcomes\n",
    "1. Outline the typical terminology used in data science.\n",
    "2. Identify data distributions\n",
    "3. Compare data distributions"
   ]
  },
  {
   "cell_type": "markdown",
   "metadata": {
    "slideshow": {
     "slide_type": "slide"
    }
   },
   "source": [
    "## Tabular Data\n",
    "\n",
    "- Before we process or analyze data, we have to capture and represent it using **Variables**\n",
    "- **Variable** is a label (field, header or title) that we give to our data. \n",
    "- Consider the following data in tabular form:\n",
    "\n",
    "| Faculty  Name | Area of Specialization | Experience in yrs  | International  Faculty | # Assignments  |\n",
    "|---------------|------------------------|--------------------|------------------------|----------------|\n",
    "| Ahmad         | Data Science           | 23                 | Yes                    | Medium         |\n",
    "| Ameen         | Operations Research    | 10                 | No                     | High           |\n",
    "| Aqib          | Simulation             | 13                 | Yes                    | High           |\n",
    "| Bashir        | Data Science           | 20                 | No                     | Medium         |\n",
    "| Nadhir        | Operations Research    | 18                 | Yes                    | Low            |\n",
    "\n",
    "\n",
    "- The column headings *Faculty Name, Area of Specialization, Experience in yrs, International Faculty* and *# Assignments* are the **labels or fields**.\n",
    "\n",
    "\n",
    "*Note: There are many formats in which data can be represented, in this course we will only consider tabular format (i.e. the data will have row corresponding to records, and column corresponding to fields).*"
   ]
  },
  {
   "cell_type": "markdown",
   "metadata": {
    "slideshow": {
     "slide_type": "slide"
    }
   },
   "source": [
    "## Field Types \n",
    "\n",
    "Some of the common field types that we often come in tabular data are:\n",
    "1. **Numerical Data:** these are numerical values of the filed, where the value has a meaning. For example, in the previous table, *Experience in yrs* is a numerical data. A value of 10 in the second row implies the corresponding faculty has 10 years of experience.\n",
    "2. **Categorical Data:** there are  non-numerical field values, where the value represents a category without any order. For example, in the previous table, *International Faculty* is a categorical data. A value of 'Yes' in the first row implies the corresponding faculty a foreign faculty. This column has two categories. Similarly, in the previous table, the column *Area of Specialization* is a categorical data, with 3 different categories.\n",
    "    1. **Nominal Data:** sometimes categorical data is represented using numbers for convenience. Such representation is called as nominal data. For example, in *International Faculty* column, one could replace 'Yes' with 1 and 'No' with 0, or vice-versa. These numbers do not have meaningful mathematical or statistical insights. They are just representation for convenience.\n",
    "    2. **Ordinal Data:** these are  non-numerical field values, where the value represents a category with order. For example, in the previous table, *# Assignments* is a ordinal data. A value of 'High' in the second row implies the corresponding faculty assigns too many homeworks. \n",
    "\n",
    "\n",
    "*Note: Nominal data should not be considered as numeric data. Generally, categorical and nominal data are synonyms, but in this course we restrict the definition of nominal data to numerical representation for convenience.* "
   ]
  },
  {
   "cell_type": "markdown",
   "metadata": {
    "slideshow": {
     "slide_type": "slide"
    }
   },
   "source": [
    "# Field Segregation\n",
    "\n",
    "Not all the fields in a given data table are same. They can be classified or segregated as:\n",
    "1. **Independent Variables:** A variable that is thought to be controlled or not affected by other variables is called an independent variable. Typically, it is also known as **attribute, control, explanatory, regressor, input, predictor, observed,  feature, field** variable.\n",
    "2. **Dependent Variables:** A variable that depends on other variable (and maybe of interest in the analysis). It is also known as **predicted, explained, target, response, output/outcome, label** variable.\n",
    "3. **Auxiliary Variables:** These are the variables that provide meta information about the data, and may not be helpful (or may not be meant) to be used in the analysis."
   ]
  },
  {
   "cell_type": "markdown",
   "metadata": {
    "slideshow": {
     "slide_type": "slide"
    }
   },
   "source": [
    "### Example: Variables/Fields\n",
    "\n",
    "**Question-A:** Consider the following table:\n",
    "\n",
    "| Stu ID | Score | Subj |  GPA | Honor | Grade |\n",
    "|:------:|:-----:|:----:|:----:|:-----:|:-----:|\n",
    "|  2508  |   75  | Math | 2.97 |   0   |   B+  |\n",
    "|  2679  |   81  | Phys | 3.25 |   0   |   B+  |\n",
    "|  2416  |   95  | Math | 3.55 |   1   |   A   |\n",
    "|  2720  |   85  | Chem | 3.12 |   0   |   B+  |\n",
    "|  2575  |   81  | Phys | 3.09 |   0   |   B   |\n",
    "|  2118  |   82  | Math | 3.33 |   0   |   B+  |\n",
    "|  2060  |   97  | Phys | 3.78 |   1   |   A+  |\n",
    "\n",
    "1. Identify all the variable/fields.\n",
    "2. Identify the variable/field types."
   ]
  },
  {
   "cell_type": "markdown",
   "metadata": {
    "slideshow": {
     "slide_type": "slide"
    }
   },
   "source": [
    "1. Identify all the variable/fields.  \n",
    "From the above table, we can see the following fields: *Stu ID, Score, Subj, GPA, Honor, and Grade*.\n",
    "\n",
    "2. Identify the variable/field types. \n",
    "The following table gives the required information:\n",
    "\n",
    "|     Field    |     Type    |\n",
    "|:------------:|:-----------:|\n",
    "|    Stu ID   | Nominal |\n",
    "|  Score  |   Numeric   |\n",
    "| Subj |   Categorical   |\n",
    "|   GPA  |   Numeric   |\n",
    "|  Honor |   Nominal   |\n",
    "|   Grade  | Ordinal |\n"
   ]
  },
  {
   "cell_type": "markdown",
   "metadata": {
    "slideshow": {
     "slide_type": "slide"
    }
   },
   "source": [
    "# Frequency Distribution\n",
    "> 📌 A graph showing how many times each value occur in a variable."
   ]
  },
  {
   "cell_type": "markdown",
   "metadata": {
    "slideshow": {
     "slide_type": "slide"
    }
   },
   "source": [
    "## Histogram\n",
    "\n",
    "1. Plot values of observation on one of the axes (typically x-axis). The values can be ordered (if applicable)\n",
    "2. Plot perpendicular bars to the above axis.\n",
    "3. The height of the bar shows how many times each value occurred in the dataset."
   ]
  },
  {
   "cell_type": "markdown",
   "metadata": {
    "slideshow": {
     "slide_type": "slide"
    }
   },
   "source": [
    "### Histograms of Non-numerical Data\n"
   ]
  },
  {
   "cell_type": "markdown",
   "metadata": {
    "slideshow": {
     "slide_type": "fragment"
    }
   },
   "source": [
    "\n",
    "<video width=\"640\" height=\"480\" controls src=\"img/hist.mp4\" />\n"
   ]
  },
  {
   "cell_type": "markdown",
   "metadata": {
    "slideshow": {
     "slide_type": "slide"
    }
   },
   "source": [
    "### Histograms of Numerical Data\n",
    "\n",
    "1. When you have numeric values, it does not make sense to count the occurrences of each value. \n",
    "2. Thus, we introduce the concept of buckets or bins.\n",
    "3. The idea is to plot the bars for each bin/bucket, where the height of the bar indicates the number of values that belongs to the bin/bucket.\n",
    "\n",
    "The following video shows the procedure."
   ]
  },
  {
   "cell_type": "markdown",
   "metadata": {
    "slideshow": {
     "slide_type": "fragment"
    }
   },
   "source": [
    "<video width=\"640\" height=\"480\" controls src=\"img/hist_numerical.mp4\" />\n"
   ]
  },
  {
   "cell_type": "markdown",
   "metadata": {
    "slideshow": {
     "slide_type": "slide"
    }
   },
   "source": [
    "## Pie-Charts\n",
    "\n",
    "\n",
    "1. Pie-charts are extends the visualization offered by histograms.\n",
    "2. Typically, it is useful for the categorical data.\n",
    "3. Unlike histogram, Pie-charts display the proportion/percentage of occurrence of each category.\n",
    "4. The idea is to represent the proportion as the sectors of a circle, where the length of the arc represents the proportion.\n",
    "5. When we depict all the categories, then the pie chart will be a full circle. Otherwise, it could be an incomplete circle."
   ]
  },
  {
   "cell_type": "markdown",
   "metadata": {
    "slideshow": {
     "slide_type": "slide"
    }
   },
   "source": [
    "Let us build the pie chart for the table given for non-numerical data. The process to draw pie-chart is shown in the following video."
   ]
  },
  {
   "cell_type": "markdown",
   "metadata": {
    "slideshow": {
     "slide_type": "fragment"
    }
   },
   "source": [
    "<video width=\"640\" height=\"480\" controls src=\"img/pie.mp4\" />\n"
   ]
  },
  {
   "cell_type": "markdown",
   "metadata": {
    "slideshow": {
     "slide_type": "slide"
    }
   },
   "source": [
    "### Example: Hands on Histogram and Pie-Chart\n",
    "\n",
    "**Question-B:** Consider the following table:\n",
    "\n",
    "| Stu ID |  1 |  2 |  3 |  4 |  5 |  6 |  7 |  8 |  9 |  10 | 11 | 12 | 13 | 14 | 15 | 16 |  17 | 18 | 19 | 20 | 21 | 22 | 23 | 24 | 25 |\n",
    "|:------:|:--:|:--:|:--:|:--:|:--:|:--:|:--:|:--:|:--:|:---:|:--:|:--:|:--:|:--:|:--:|:--:|:---:|:--:|:--:|:--:|:--:|:--:|:--:|:--:|:--:|\n",
    "|  **Score** | 75 | 81 | 95 | 85 | 81 | 82 | 97 | 89 | 76 | 100 | 77 | 79 | 87 | 87 | 79 | 75 | 100 | 82 | 83 | 98 | 86 | 87 | 71 | 78 | 81 |\n",
    "|  **Subj**  |  M |  P |  M |  P |  P |  P |  P |  P |  M |  M  |  P |  P |  P |  M |  P |  M |  M  |  C |  C |  M |  C |  P |  P |  P |  M |\n",
    "\n",
    "1. Draw the histogram for *Subj*.\n",
    "2. Draw the histogram for *Score* , with bins as 71-80, 81-90, 91-100.\n",
    "3. For the above histogram, increase the bins to 30. \n",
    "4. Draw the pie-chart for *Subj*."
   ]
  },
  {
   "cell_type": "code",
   "execution_count": 17,
   "metadata": {
    "slideshow": {
     "slide_type": "slide"
    }
   },
   "outputs": [
    {
     "data": {
      "image/png": "[encoded data removed]",
      "text/plain": [
       "<Figure size 360x360 with 1 Axes>"
      ]
     },
     "metadata": {
      "needs_background": "light"
     },
     "output_type": "display_data"
    }
   ],
   "source": [
    "%matplotlib inline\n",
    "# %matplotlib notebook\n",
    "# 1. Draw the histogram for *Subj*.\n",
    "\n",
    "Subj = ['M', 'P', 'M', 'P', 'P', 'P', 'P', 'P', 'M', 'M', 'P', 'P', \n",
    "        'P', 'M', 'P', 'M', 'M', 'C', 'C', 'M', 'C', 'P', 'P', 'P', 'M']\n",
    "\n",
    "Score = [ 75,  81,  95,  85,  81,  82,  97,  89,  76, 100,  77,  79,  87, \n",
    "         87,  79,  75, 100,  82,  83,  98, 86, 87, 71, 78, 81]\n",
    "\n",
    "import matplotlib.pyplot as plt\n",
    "\n",
    "plt.figure(figsize=(5,5))\n",
    "plt.hist(Subj)\n",
    "plt.show()"
   ]
  },
  {
   "cell_type": "code",
   "execution_count": 18,
   "metadata": {
    "slideshow": {
     "slide_type": "slide"
    }
   },
   "outputs": [
    {
     "data": {
      "image/png": "[encoded data removed]",
      "text/plain": [
       "<Figure size 360x360 with 1 Axes>"
      ]
     },
     "metadata": {
      "needs_background": "light"
     },
     "output_type": "display_data"
    }
   ],
   "source": [
    "%matplotlib inline \n",
    "# 2. Draw the histogram for *Score* , with bins as 71-80, 81-90, 91-100.\n",
    "\n",
    "import matplotlib.pyplot as plt\n",
    "plt.figure(figsize=(5,5))\n",
    "plt.hist(Score,bins=[71,81,91,100]) # Creates three bins as: 71-80, 81-90, 91-100\n",
    "plt.show()\n",
    "\n",
    "# Note: once you import a library in a Jupyter session, \n",
    "# you do not have to import it again in another cell or notebook.\n",
    "# Sometimes, we repeat the libraries in every cell for the sake of completeness."
   ]
  },
  {
   "cell_type": "code",
   "execution_count": 3,
   "metadata": {
    "slideshow": {
     "slide_type": "slide"
    }
   },
   "outputs": [
    {
     "data": {
      "image/png": "[encoded data removed]",
      "text/plain": [
       "<Figure size 360x360 with 1 Axes>"
      ]
     },
     "metadata": {
      "needs_background": "light"
     },
     "output_type": "display_data"
    }
   ],
   "source": [
    "# 3. For the above histogram, increase the bins to 30.\n",
    "\n",
    "import matplotlib.pyplot as plt\n",
    "plt.figure(figsize=(5,5))\n",
    "plt.hist(Score,bins=30)\n",
    "plt.show()\n"
   ]
  },
  {
   "cell_type": "code",
   "execution_count": 4,
   "metadata": {
    "slideshow": {
     "slide_type": "slide"
    }
   },
   "outputs": [
    {
     "data": {
      "image/png": "[encoded data removed]",
      "text/plain": [
       "<Figure size 432x288 with 1 Axes>"
      ]
     },
     "metadata": {},
     "output_type": "display_data"
    }
   ],
   "source": [
    "# 4. Draw the pie-chart for *Subj*.\n",
    "\n",
    "\n",
    "import numpy as np\n",
    "subj_arr = np.array(Subj)\n",
    "subj_labels, subj_counts = np.unique(Subj,return_counts=True)\n",
    "\n",
    "\n",
    "import matplotlib.pyplot as plt\n",
    "plt.figure()\n",
    "plt.pie(subj_counts, labels = subj_labels,autopct='%.2f%%') #autopct to format labels\n",
    "plt.show()\n",
    "\n",
    "\n",
    "\n",
    "# # without using numpy to calculate subject labels\n",
    "# cm,cp,cc=0,0,0\n",
    "# for e in Subj:\n",
    "#     if e=='M':\n",
    "#         cm+=1\n",
    "#     elif e==\"P\":\n",
    "#         cp+=1\n",
    "#     else:\n",
    "#         cc+=1     \n",
    "# print(cm,cp,cc)\n",
    "\n",
    "## To get counts\n",
    "# print(Subj.count('M'))\n",
    "\n",
    "\n",
    "# subj_counts = [(subj_arr==s).sum() for s in subj_labels]\n",
    "\n",
    "# # Without List Comprehension\n",
    "# sc=[]\n",
    "# for e in subj_labels:\n",
    "#     sc.append((subj_arr==e).sum())\n",
    "# print(sc)\n",
    "\n",
    "## To get unique values\n",
    "# print(set(Subj))"
   ]
  },
  {
   "cell_type": "markdown",
   "metadata": {
    "slideshow": {
     "slide_type": "slide"
    }
   },
   "source": [
    "## Normal Distribution\n",
    "\n",
    "1. A histogram depicts the distribution of the variable.\n",
    "2. A variable's distribution may not be easy to estimate.\n",
    "3. However, it can be easy to check if it is closer to a particular distribution.\n",
    "4. Among standard distributions, *Normal Distribution* is a prominent distribution.\n",
    "5. Many statistical theories are based on the assumption of normal distribution.\n",
    "\n",
    "So, let us see what normal distribution is, and how to know if a variable's distribution is closer to normal distribution."
   ]
  },
  {
   "cell_type": "markdown",
   "metadata": {
    "slideshow": {
     "slide_type": "slide"
    }
   },
   "source": [
    "Normal Distribution: \n",
    "1. In an ideal world, data would be distributed symmetrically around the center of all the data. \n",
    "2. If we draw a vertical line through the center of a distribution, both sides should look the same. \n",
    "3. The so-called normal distribution is characterized by\n",
    "a bell-shaped curve.\n",
    " \n",
    "<div style=\"align: center; text-align:center;\">\n",
    " <table style=\"width:100%\">\n",
    "  <tr>\n",
    "    <th colspan=\"2\"><img src=\"img/norm1.png\" width=310 height=310 /> </th>\n",
    "  </tr>\n",
    "  <tr>\n",
    "    <td><img src=\"img/norm2.png\" width=310 height=310 /></td>\n",
    "    <td><img src=\"img/norm3.png\" width=310 height=310 /></td>\n",
    "  </tr>\n",
    "  <tr>\n",
    "    <th colspan=\"2\"><img src=\"img/norm4.png\" width=310 height=310 /></th>\n",
    "  </tr>\n",
    "  <tr>\n",
    "</table> \n",
    "</div>\n",
    "\n",
    "*Note: there actual process to measures Kurtosis and Skew will be skipped for now.*"
   ]
  },
  {
   "cell_type": "markdown",
   "metadata": {
    "slideshow": {
     "slide_type": "slide"
    }
   },
   "source": [
    "# Measures of Centrality\n",
    "> 📌 How to estimate the center of distribution.\n",
    "\n",
    "1. Often, one number can tell a lot about the distribution. \n",
    "2. One of the basic measure is a number that points to the 'center' of the distribution.\n",
    "3. However, the definition of 'center' is not straightforward. It depends upon the context.\n",
    "4. In the following cells, we will look at the three common measures of 'center': **mean, median** and **mode**."
   ]
  },
  {
   "cell_type": "markdown",
   "metadata": {
    "slideshow": {
     "slide_type": "slide"
    }
   },
   "source": [
    "## Mean\n",
    "\n",
    "1. Mean is commonly referred as average, though they are not exactly synonyms.\n",
    "2. Mean is often used to measure the central tendency of continuous data as well as discrete data.\n",
    "3. If $x_1, x_2, \\ldots, x_n$ are  values, then the mean $\\overline{x}$ is calculated as:\n",
    "\n",
    "$$\\overline{x} = \\frac{x_1+ x_2+ \\ldots+ x_n}{n}  $$\n",
    "4. Mean is susceptible to the presence of outliers.  \n",
    "5. Mean is useful when the data distribution is normal distribution (or at least close to looking like a normal distribution).\n"
   ]
  },
  {
   "cell_type": "markdown",
   "metadata": {
    "slideshow": {
     "slide_type": "slide"
    }
   },
   "source": [
    "## Median\n",
    "\n",
    "1. Median is the middle value of the data that has been sorted according to the values of the data.\n",
    "2. When the data has even number of values, median is calculated as the average of the two middle values.\n",
    "3. Typically, median is less susceptible to the presence of outliers (compared to mean).\n"
   ]
  },
  {
   "cell_type": "markdown",
   "metadata": {
    "slideshow": {
     "slide_type": "slide"
    }
   },
   "source": [
    "## Mode\n",
    "1. Mode is the most frequently occurring value in a dataset.\n",
    "2. Typically, mode is used for non-numerical data.\n",
    "3. On a histogram, the category of the highest bar denotes the mode of the data."
   ]
  },
  {
   "cell_type": "markdown",
   "metadata": {
    "slideshow": {
     "slide_type": "slide"
    }
   },
   "source": [
    "### Example: Calculate the mean, median and mode \n",
    "\n",
    "**Question-C:** Consider the following table:\n",
    "\n",
    "| Stu ID |  1 |  2 |  3 |  4 |  5 |  6 |  7 |  8 |  9 |  10 | 11 | 12 | 13 | 14 | 15 | 16 |  17 | 18 | 19 | 20 | 21 | 22 | 23 | 24 | 25 |\n",
    "|:------:|:--:|:--:|:--:|:--:|:--:|:--:|:--:|:--:|:--:|:---:|:--:|:--:|:--:|:--:|:--:|:--:|:---:|:--:|:--:|:--:|:--:|:--:|:--:|:--:|:--:|\n",
    "|  **Score** | 75 | 81 | 95 | 85 | 81 | 82 | 97 | 89 | 76 | 100 | 77 | 79 | 87 | 87 | 79 | 75 | 100 | 82 | 83 | 98 | 86 | 87 | 71 | 78 | 81 |\n",
    "\n",
    "1. Calculate the mean, median and mode of the data (by hand).\n",
    "2. Calculate the above measures using Python."
   ]
  },
  {
   "cell_type": "markdown",
   "metadata": {
    "slideshow": {
     "slide_type": "slide"
    }
   },
   "source": [
    " 1. Calculate the mean, median and mode of the data (by hand).\n",
    "\n",
    "Mean:  \n",
    "$$\\frac{75+81+95+85+81+82+97+89+76+100+77+79+87+87+79+75+100+82+83+98+86+87+71+78+81}{25}=84.44$$\n",
    "\n",
    "Median: (sorted in ascending order)  \n",
    "\n",
    "$$Score_{sorted}=[71, 75, 75, 76, 77, 78, 79, 79, 81, 81, 81, 82, \\mathbf{82}, 83, 85, 86, 87, 87, 87, 89, 95, 97, 98, 100, 100]$$\n",
    "\n",
    "Mode: (unique values and occurrence)  \n",
    "\n",
    "| **Value**      | 71 | 75 | 76 | 77 | 78 | 79 | 81 | 82 | 83 | 85 | 86 | 87 | 89 | 95 | 97 | 98 | 100 |\n",
    "|------------|----|----|----|----|----|----|----|----|----|----|----|----|----|----|----|----|-----|\n",
    "| **Occurrence** | 1  | 2  | 1  | 1  | 1  | 2  | 3  | 2  | 1  | 1  | 1  | 3  | 1  | 1  | 1  | 1  | 2   |\n",
    "\n",
    "From the above table, we can see that the mode is not unique, and the values are 81 and 87. "
   ]
  },
  {
   "cell_type": "code",
   "execution_count": 4,
   "metadata": {
    "slideshow": {
     "slide_type": "slide"
    }
   },
   "outputs": [
    {
     "name": "stdout",
     "output_type": "stream",
     "text": [
      "The mean is 84.44, the median is 82.0, and the mode is [81].\n"
     ]
    }
   ],
   "source": [
    "# 2. Calculate the above measures using Python.\n",
    "\n",
    "import numpy as np\n",
    "from scipy import stats \n",
    "\n",
    "Score = [75,  81,  95,  85,  81,  82,  97,  89,  76, 100,  77,  79,  87, 87,  79,  75, 100,  82,  83,  98, 86, 87, 71, 78, 81]\n",
    "Score = np.array(Score)\n",
    "\n",
    "print(f'The mean is {Score.mean()}, the median is {np.median(Score)}, and the mode is {stats.mode(Score)[0]}.')\n",
    "\n",
    "# stats.mode return single minimum value of the mode, \n",
    "# when multiple non-unique modes are present in the data."
   ]
  },
  {
   "cell_type": "code",
   "execution_count": 6,
   "metadata": {
    "slideshow": {
     "slide_type": "slide"
    }
   },
   "outputs": [],
   "source": [
    "# For python 3.8. \n",
    "# The following code displays all the modes.\n",
    "\n",
    "# from statistics import multimode\n",
    "# multimode(Score)"
   ]
  },
  {
   "cell_type": "markdown",
   "metadata": {
    "slideshow": {
     "slide_type": "slide"
    }
   },
   "source": [
    "# Dispersion of a Distribution\n",
    "> 📌 How to measure the spread of a distribution.\n",
    "\n",
    "1. A measure of 'center' may not be enough in understanding the actual shape of a distribution.\n",
    "2. The spread or dispersion of a distribution can be measured using the following typical measures: **Range, Interquartile Range, Variance** and **Standard Deviation**."
   ]
  },
  {
   "cell_type": "markdown",
   "metadata": {
    "slideshow": {
     "slide_type": "slide"
    }
   },
   "source": [
    "## Range \n",
    "\n",
    "1. It is the difference between the largest value and the smallest value.\n",
    "2. It is susceptible to the outliers."
   ]
  },
  {
   "cell_type": "markdown",
   "metadata": {
    "slideshow": {
     "slide_type": "slide"
    }
   },
   "source": [
    "## Interquartile Range\n",
    "1. It is the range obtained after removing extreme values.\n",
    "2. One convention is to cut-off the top and bottom one-quarter of the data and calculate the range of the remaining middle 50% of the scores.\n",
    "3. The bottom one-quarter values of data are also known as *lower or first quartile* ($25^{th}$ percentile). It is denoted as $Q_1$.\n",
    "4. The top one-quarter values of data are also known as *upper or third quartile* ($75^{th}$ percentile). It is denoted as $Q_3$.\n",
    "5. The Interquartile Range(IQR) is now calculated as:\n",
    "\n",
    "$$IQR=Q_3-Q_1$$"
   ]
  },
  {
   "cell_type": "markdown",
   "metadata": {
    "slideshow": {
     "slide_type": "slide"
    }
   },
   "source": [
    "## Variance \n",
    "\n",
    "1. It is a measure used to indicate how spread out the data points are.\n",
    "2. If the individual observations vary greatly from the group mean, then the variance is big; and vice versa.\n",
    "3. The variance of the population is defined by the following formula:\n",
    "$$\\sigma^2=\\frac{\\sum (X_i-\\overline{X})^2}{N}$$\n",
    "where $\\sigma^2$ is the population variance, $\\overline{X}$ is the population mean, $X_i$ is the $i^{th}$ element from the population, and $N$ is the number of elements in the population.\n",
    "4. The variance of the sample is defined by the following formula:\n",
    "$$s^2=\\frac{\\sum (x_i-\\overline{x})^2}{n-1}$$\n",
    "where $s^2$ is the sample variance, $\\overline{x}$ is the sample mean, $x_i$ is the $i^{th}$ element from the sample, and $n$ is the number of elements in the sample.\n",
    "5. The above formula, the variance of the sample is an unbiased estimate of the variance of the population."
   ]
  },
  {
   "cell_type": "markdown",
   "metadata": {
    "slideshow": {
     "slide_type": "slide"
    }
   },
   "source": [
    "## Standard Deviation\n",
    "1. It is the square root of the variance.\n",
    "2. It is computed as:\n",
    "\n",
    "$$s=\\sqrt{\\frac{\\sum (x_i-\\overline{x})^2}{n-1}}$$\n",
    "where $s$ is the sample standard deviation, $\\overline{x}$ is the sample mean, $x_i$ is the $i^{th}$ element from the sample, and $n$ is the number of elements in the sample.\n",
    "3. The advantage: the units of standard deviation is same as the units of the data.\n",
    "4. The above is not true for variance."
   ]
  },
  {
   "cell_type": "markdown",
   "metadata": {
    "slideshow": {
     "slide_type": "slide"
    }
   },
   "source": [
    "### Example: Measures of Dispersion\n",
    "\n",
    "**Question-D:** Consider the following table:\n",
    "\n",
    "| Stu ID |  1 |  2 |  3 |  4 |  5 |  6 |  7 |  8 |  9 |  10 | 11 | 12 | 13 | 14 | 15 | 16 |  17 | 18 | 19 | 20 | 21 | 22 | 23 | 24 | 25 |\n",
    "|:------:|:--:|:--:|:--:|:--:|:--:|:--:|:--:|:--:|:--:|:---:|:--:|:--:|:--:|:--:|:--:|:--:|:---:|:--:|:--:|:--:|:--:|:--:|:--:|:--:|:--:|\n",
    "|  **Score** | 75 | 81 | 95 | 85 | 81 | 82 | 97 | 89 | 76 | 100 | 77 | 79 | 87 | 87 | 79 | 75 | 100 | 82 | 83 | 98 | 86 | 87 | 71 | 78 | 81 |\n",
    "\n",
    "1. Calculate the Range, Variance, and Standard deviation of the data (by hand).\n",
    "2. Calculate the above measures using Python.\n",
    "3. Calculate the interquartile range."
   ]
  },
  {
   "cell_type": "markdown",
   "metadata": {
    "slideshow": {
     "slide_type": "slide"
    }
   },
   "source": [
    "1. Calculate the Range, Sample Variance, and corresponding Standard deviation of the data (by hand).  \n",
    "\n",
    "Range: The max value in the data is 100. The min value in the data is 71.  \n",
    "Thus, the range is 100-71 = 29.  "
   ]
  },
  {
   "cell_type": "markdown",
   "metadata": {
    "slideshow": {
     "slide_type": "fragment"
    }
   },
   "source": [
    "Variance:\n",
    "The following table illustrates the calculations:  \n",
    "\n",
    "| <div style=\"width:80px\">Stu ID </div> |    1    |    2    |     3    |    4   |    5    |    6   |     7    |    8    |    9    |    10    |    11   |    12   |   13   |   14   |    15   |    16   |    17    |   18   |   19   |    20    |   21   |   22   |    23    |    24   |    25   |\n",
    "|:-----------------:|:-------:|:-------:|:--------:|:------:|:-------:|:------:|:--------:|:-------:|:-------:|:--------:|:-------:|:-------:|:------:|:------:|:-------:|:-------:|:--------:|:------:|:------:|:--------:|:------:|:------:|:--------:|:-------:|:-------:|\n",
    "|  **Score** |    75   |    81   |    95    |   85   |    81   |   82   |    97    |    89   |    76   |    100   |    77   |    79   |   87   |   87   |    79   |    75   |    100   |   82   |   83   |    98    |   86   |   87   |    71    |    78   |    81   |\n",
    "|  $(x~-~\\overline{x})$ |  -9.44  |  -3.44  |   10.56  |  0.56  |  -3.44  |  -2.44 |   12.56  |   4.56  |  -8.44  |   15.56  |  -7.44  |  -5.44  |  2.56  |  2.56  |  -5.44  |  -9.44  |   15.56  |  -2.44 |  -1.44 |   13.56  |  1.56  |  2.56  |  -13.44  |  -6.44  |  -3.44  |\n",
    "|   $(x-\\overline{x})^2$     | 89.1136 | 11.8336 | 111.5136 | 0.3136 | 11.8336 | 5.9536 | 157.7536 | 20.7936 | 71.2336 | 242.1136 | 55.3536 | 29.5936 | 6.5536 | 6.5536 | 29.5936 | 89.1136 | 242.1136 | 5.9536 | 2.0736 | 183.8736 | 2.4336 | 6.5536 | 180.6336 | 41.4736 | 11.8336 |\n",
    "\n",
    "\n",
    "The sum of the elements of the last row divided by 24 gives sample variance, which is equal to 67.34."
   ]
  },
  {
   "cell_type": "markdown",
   "metadata": {
    "slideshow": {
     "slide_type": "fragment"
    }
   },
   "source": [
    "Standard deviation: It is the square root of variance, and for the given data it is equal to 8.21."
   ]
  },
  {
   "cell_type": "code",
   "execution_count": 1,
   "metadata": {
    "slideshow": {
     "slide_type": "slide"
    }
   },
   "outputs": [
    {
     "name": "stdout",
     "output_type": "stream",
     "text": [
      "The Range is 29, \n",
      "the sample variance is 67.33999999999999, and \n",
      "the sample standard deviation is 8.206095295571457.\n"
     ]
    }
   ],
   "source": [
    "import numpy as np\n",
    "\n",
    "Score = [ 75,  81,  95,  85,  81,  82,  97,  89,  76, 100,  77,  79,  87, 87,  79,  75, 100,  82,  83,  98, 86, 87, 71, 78, 81]\n",
    "Score = np.array(Score)\n",
    "\n",
    "\n",
    "print(f\"\"\"The Range is {Score.max()-Score.min()}, \n",
    "the sample variance is {np.var(Score,ddof=1)}, and \n",
    "the sample standard deviation is {np.std(Score,ddof=1)}.\"\"\")"
   ]
  },
  {
   "cell_type": "code",
   "execution_count": 8,
   "metadata": {
    "slideshow": {
     "slide_type": "slide"
    }
   },
   "outputs": [
    {
     "name": "stdout",
     "output_type": "stream",
     "text": [
      "The interquartile range is 8.0\n"
     ]
    }
   ],
   "source": [
    "Q3, Q1 = np.percentile(Score, [75 ,25])\n",
    "\n",
    "## Or indivudial\n",
    "# Q3 = np.percentile(Score, 75)\n",
    "# Q1 = np.percentile(Score, 25)\n",
    "\n",
    "IQR = Q3 - Q1\n",
    "print(f'The interquartile range is {IQR}')\n",
    "# print(Q3,Q1)"
   ]
  },
  {
   "cell_type": "markdown",
   "metadata": {
    "slideshow": {
     "slide_type": "slide"
    }
   },
   "source": [
    "## Box Plots\n",
    "\n",
    "To build a boxplot, following things are required from the data.\n",
    "\n",
    "1. The min and max values in the data.\n",
    "2. The first and third quartile of the data.\n",
    "3. The median of the data."
   ]
  },
  {
   "cell_type": "markdown",
   "metadata": {
    "slideshow": {
     "slide_type": "fragment"
    }
   },
   "source": [
    "Now, using the above values, box plot is drawn as follows:\n",
    "\n",
    "<img src=\"img/box1.png\" width=640 height=640 />"
   ]
  },
  {
   "cell_type": "markdown",
   "metadata": {
    "slideshow": {
     "slide_type": "slide"
    }
   },
   "source": [
    "Example of box plot:\n",
    "\n",
    "<video width=\"640\" height=\"480\" controls src=\"img/boxPlot.mp4\" />"
   ]
  },
  {
   "cell_type": "markdown",
   "metadata": {
    "slideshow": {
     "slide_type": "slide"
    }
   },
   "source": [
    "## Comparing Box Plots\n",
    "1. Compare position and length of the boxes.\n",
    "2. Compare the position of medians.\n",
    "3. Compare position and length of the whiskers."
   ]
  },
  {
   "cell_type": "markdown",
   "metadata": {
    "slideshow": {
     "slide_type": "slide"
    }
   },
   "source": [
    "### Example: Box Plots\n",
    "\n",
    "**Question-E:** Consider the following table:\n",
    "\n",
    "| Stu ID |  1 |  2 |  3 |  4 |  5 |  6 |  7 |  8 |  9 |  10 | 11 | 12 | 13 | 14 | 15 | 16 |  17 | 18 | 19 | 20 | 21 | 22 | 23 | 24 | 25 |\n",
    "|:------:|:--:|:--:|:--:|:--:|:--:|:--:|:--:|:--:|:--:|:---:|:--:|:--:|:--:|:--:|:--:|:--:|:---:|:--:|:--:|:--:|:--:|:--:|:--:|:--:|:--:|\n",
    "|  **Score** | 75 | 81 | 95 | 85 | 81 | 82 | 97 | 89 | 76 | 100 | 77 | 79 | 87 | 87 | 79 | 75 | 100 | 82 | 83 | 98 | 86 | 87 | 71 | 78 | 81 |\n",
    "\n",
    "Draw the box plot of score using Python inbuilt function."
   ]
  },
  {
   "cell_type": "code",
   "execution_count": 2,
   "metadata": {
    "slideshow": {
     "slide_type": "slide"
    }
   },
   "outputs": [
    {
     "data": {
      "image/png": "[encoded data removed]",
      "text/plain": [
       "<Figure size 216x576 with 1 Axes>"
      ]
     },
     "metadata": {
      "needs_background": "light"
     },
     "output_type": "display_data"
    }
   ],
   "source": [
    "# Draw the box plot of score.\n",
    "\n",
    "Score = [ 75,  81,  95,  85,  81,  82,  97,  89,  76, 100,  77,  79,  87, 87,  79,  75, 100,  82,  83,  98, 86, 87, 71, 78, 81]\n",
    "Score = np.array(Score)\n",
    "\n",
    "import matplotlib.pyplot as plt\n",
    "plt.figure(figsize=(3,8))\n",
    "plt.boxplot(Score) \n",
    "plt.title('Box Plot')\n",
    "plt.show()\n"
   ]
  },
  {
   "cell_type": "markdown",
   "metadata": {
    "slideshow": {
     "slide_type": "slide"
    }
   },
   "source": [
    "# Comparing Distributions\n",
    "> 📌 Are the two distributions similar or dissimilar?\n",
    "\n",
    "1. Often there is a need to compare different distributions to derive some important insights or make decisions.\n",
    "2. Visual inspection via comparing histograms (or any graphical depiction of distribution) is not practical (and not easy).\n",
    "3. Visual inspection via comparing box plots.\n",
    "4. **Hypothesis testing** and **Confidence or probability value** are used for comparing distributions."
   ]
  },
  {
   "cell_type": "markdown",
   "metadata": {
    "slideshow": {
     "slide_type": "slide"
    }
   },
   "source": [
    "## Hypothesis Testing\n",
    "1. A hypothesis is a way to state our assumption or belief that could be tested.\n",
    "2. The default knowledge or assumption could be stated as a *null hypothesis*.\n",
    "3. The opposite of the default knowledge is stated as *alternative hypothesis*.\n",
    "4. Example:\n",
    " - Null hypothesis: no difference between the two distributions.\n",
    " - Alternative hypothesis: there is a difference between the two distributions.\n"
   ]
  },
  {
   "cell_type": "markdown",
   "metadata": {
    "slideshow": {
     "slide_type": "slide"
    }
   },
   "source": [
    "## *P*-Value\n",
    "\n",
    "1. *p*-value is the confidence or probability value of the null hypothesis.\n",
    "2. It indicates how much we believe the two distributions are the same. \n",
    "3. If *p*-value is very small, then we can reject the null hypothesis, and accept the alternative hypothesis.\n",
    "4. If *p*-value is not very small, then we fail to reject the null hypothesis.\n",
    "5. Typically, a *p*-value less than 0.05 or 5% is considered as very small."
   ]
  },
  {
   "cell_type": "markdown",
   "metadata": {},
   "source": [
    "## Typical Tests\n",
    "\n",
    "1. Shapiro-Wilk Test: Test if a data sample follows normal distribution.\n",
    "  - Null hypothesis: the sample has a normal distribution.\n",
    "2. Student's t-test: Tests if the means of two independent samples are significantly different. Assume data follow normal distributions.\n",
    "  - Null hypothesis: the means of the samples are equal.\n",
    "3. Mann-Whitney U Test: Tests if the means of two independent samples are significantly different.\n",
    "  - Null hypothesis: the means of the distributions are equal."
   ]
  },
  {
   "cell_type": "markdown",
   "metadata": {
    "slideshow": {
     "slide_type": "slide"
    }
   },
   "source": [
    "### Hands on Hypothesis Testing\n",
    "\n",
    "**Question-F:** Consider the following data:\n",
    "\n",
    "| Stu ID |  1 |  2 |  3 |  4 |  5 |  6 |  7 |  8 |  9 |  10 | 11 | 12 | 13 | 14 | 15 | 16 |  17 | 18 | 19 | 20 | 21 | 22 | 23 | 24 | 25 |\n",
    "|:------:|:--:|:--:|:--:|:--:|:--:|:--:|:--:|:--:|:--:|:---:|:--:|:--:|:--:|:--:|:--:|:--:|:---:|:--:|:--:|:--:|:--:|:--:|:--:|:--:|:--:|\n",
    "| **Score_1** | 75 | 81 | 85 | 85 | 81 | 82 | 87 | 89 | 73 | 100 | 72 | 79 | 87 | 87 | 79 | 75 | 100 | 82 | 83 | 88 | 86 | 87 | 66 | 78 | 81 |\n",
    "| **Score_2** | 70 | 99 | 70 | 100 | 78 | 66 | 76 | 79 | 65 |  77 | 100 | 85 | 71 | 99 | 66 | 84 |  87 | 66 | 66 | 74 | 81 | 83 | 85 | 75 | 66 |\n",
    "\n",
    "1. Check if Score_1 and Score_2 follows normal distribution.\n",
    "2. Draw the box plots of Score_1 and Score_2, and comment on their similarity/dissimilarity.\n",
    "3. Check if the means of Score_1 and Score_2 are equal using Student's t-test.\n",
    "4. Check if the means of Score_1 and Score_2 are equal using Mann-Whitney U Test."
   ]
  },
  {
   "cell_type": "code",
   "execution_count": 1,
   "metadata": {
    "slideshow": {
     "slide_type": "slide"
    }
   },
   "outputs": [],
   "source": [
    "import numpy as np\n",
    "\n",
    "Score_1 = [75, 81, 85, 85, 81, 82, 87, 89, 73, 100, 72, 79, 87, 87, 79, 75, 100, 82, 83, 88, 86, 87, 66, 78, 81]\n",
    "Score_2 = [70, 99, 70, 100, 78, 66, 76, 79, 65, 77, 100, 85, 71, 99, 66, 84, 87, 66, 66, 74, 81, 83, 85, 75, 66]\n",
    "# They can be of different lengths"
   ]
  },
  {
   "cell_type": "code",
   "execution_count": 3,
   "metadata": {},
   "outputs": [
    {
     "name": "stdout",
     "output_type": "stream",
     "text": [
      "ShapiroResult(statistic=0.9529008269309998, pvalue=0.29114970564842224)\n",
      "p-value 0.29114970564842224\n",
      "We fail to reject null hypothesis for Score_1\n",
      "\n",
      "\n",
      "\n",
      "\n",
      "p-value 0.01274434570223093\n",
      "We reject null hypothesis for Score_2\n"
     ]
    }
   ],
   "source": [
    "# 1. Check if Score_1 and Score_2 follows normal distribution.\n",
    "from scipy.stats import shapiro\n",
    "xc=shapiro(Score_1)\n",
    "print(xc) \n",
    "\n",
    "_, pval = shapiro(Score_1)\n",
    "print('p-value',pval)\n",
    "\n",
    "if pval <0.05:\n",
    "  print(\"We reject null hypothesis for Score_1\")\n",
    "else:\n",
    "  print(\"We fail to reject null hypothesis for Score_1\")\n",
    "\n",
    "print(\"\\n\"*3)\n",
    "\n",
    "_, pval = shapiro(Score_2)\n",
    "print('p-value',pval)\n",
    "\n",
    "if pval <0.05:\n",
    "  print(\"We reject null hypothesis for Score_2\")\n",
    "else:\n",
    "  print(\"We fail to reject null hypothesis for Score_2\")"
   ]
  },
  {
   "cell_type": "code",
   "execution_count": 31,
   "metadata": {
    "slideshow": {
     "slide_type": "slide"
    }
   },
   "outputs": [
    {
     "data": {
      "image/png": "[encoded data removed]",
      "text/plain": [
       "<Figure size 432x576 with 1 Axes>"
      ]
     },
     "metadata": {
      "needs_background": "light"
     },
     "output_type": "display_data"
    }
   ],
   "source": [
    "# 2. Draw the box plots of Score_1 and Score_2, and comment on their similarity/dissimilarity.\n",
    "import matplotlib.pyplot as plt\n",
    "fig =plt.figure(figsize=(6,8))\n",
    "ax = fig.add_subplot(111)  #fig.add_subplot(ROW,COLUMN,POSITION)\n",
    "plt.boxplot([Score_1,Score_2]) \n",
    "plt.title('Box Plot')\n",
    "ax.set_xticklabels(['Score_1', 'Score_2'])\n",
    "plt.show()\n",
    "\n",
    "\n",
    "# # Looking at the box plots, we see the following:\n",
    "# 1. The median for Score_1 is more than Score_2. \n",
    "# 2. The IQRs are different.\n",
    "# 3. For Score_1, the median is closer to Q1. \n",
    "# 4. For Score_2, the median is almost at the center of Q1 and Q3.\n",
    "# 5. They upper whisker lengths are different. Similarly, the lower whisker lengths are different.\n",
    " \n",
    "# There is a possibility of having differences in the distributions.\n"
   ]
  },
  {
   "cell_type": "code",
   "execution_count": 32,
   "metadata": {
    "slideshow": {
     "slide_type": "slide"
    }
   },
   "outputs": [
    {
     "name": "stdout",
     "output_type": "stream",
     "text": [
      "p-value 0.15643810807436723\n",
      "We fail to reject null hypothesis\n"
     ]
    }
   ],
   "source": [
    "# 3. Check if the means of Score_1 and Score_2 are equal using Student's t-test.\n",
    "from scipy.stats import ttest_ind\n",
    "import numpy as np\n",
    "\n",
    "#Student’s t-test is very good when the data follows normal distribution\n",
    "_,pval = ttest_ind(Score_1,Score_2,equal_var=False) \n",
    "print('p-value',pval)\n",
    "\n",
    "if pval <0.05:\n",
    "  print(\"We reject null hypothesis\")\n",
    "else:\n",
    "  print(\"We fail to reject null hypothesis\")"
   ]
  },
  {
   "cell_type": "code",
   "execution_count": 36,
   "metadata": {
    "slideshow": {
     "slide_type": "slide"
    }
   },
   "outputs": [
    {
     "name": "stdout",
     "output_type": "stream",
     "text": [
      "p-value 0.02961242046613917\n",
      "We reject null hypothesis\n"
     ]
    }
   ],
   "source": [
    "# 4. Check if the means of Score_1 and Score_2 are equal using Mann-Whitney U Test.\n",
    "from scipy.stats import mannwhitneyu\n",
    "\n",
    "#Mann-Whitney test is useful in general (no assumption of normal distribution)\n",
    "_,pval = mannwhitneyu(Score_1,Score_2)\n",
    "print('p-value',pval)\n",
    "\n",
    "if pval <0.05:\n",
    "  print(\"We reject null hypothesis\")\n",
    "else:\n",
    "  print(\"We fail to reject null hypothesis\")"
   ]
  },
  {
   "cell_type": "markdown",
   "metadata": {
    "slideshow": {
     "slide_type": "slide"
    }
   },
   "source": [
    "# References:\n",
    "\n",
    "## Theory:\n",
    "1. Chirag Shah, \"A Hands-On Introduction to Data Science,\" Cambridge University Press, 2020, **Section 3.3.1, 3.3.2, 3.3.3, 3.3.4**. 📕  \n",
    "2. Plots: https://matplotlib.org/  📃\n",
    "3. Numpy: https://numpy.org/doc/stable/  📃\n",
    "4. Scipy: https://docs.python.org/3/library/statistics.html  📃"
   ]
  },
  {
   "cell_type": "code",
   "execution_count": null,
   "metadata": {
    "scrolled": false
   },
   "outputs": [],
   "source": []
  }
 ],
 "metadata": {
  "celltoolbar": "Slideshow",
  "hide_input": false,
  "kernelspec": {
   "display_name": "Python 3 (ipykernel)",
   "language": "python",
   "name": "python3"
  },
  "language_info": {
   "codemirror_mode": {
    "name": "ipython",
    "version": 3
   },
   "file_extension": ".py",
   "mimetype": "text/x-python",
   "name": "python",
   "nbconvert_exporter": "python",
   "pygments_lexer": "ipython3",
   "version": "3.9.7"
  },
  "toc": {
   "base_numbering": 1,
   "nav_menu": {},
   "number_sections": true,
   "sideBar": true,
   "skip_h1_title": false,
   "title_cell": "Table of Contents",
   "title_sidebar": "Contents",
   "toc_cell": true,
   "toc_position": {
    "height": "346.323px",
    "left": "1092.22px",
    "top": "110px",
    "width": "198px"
   },
   "toc_section_display": true,
   "toc_window_display": false
  },
  "varInspector": {
   "cols": {
    "lenName": 16,
    "lenType": 16,
    "lenVar": 40
   },
   "kernels_config": {
    "python": {
     "delete_cmd_postfix": "",
     "delete_cmd_prefix": "del ",
     "library": "var_list.py",
     "varRefreshCmd": "print(var_dic_list())"
    },
    "r": {
     "delete_cmd_postfix": ") ",
     "delete_cmd_prefix": "rm(",
     "library": "var_list.r",
     "varRefreshCmd": "cat(var_dic_list()) "
    }
   },
   "types_to_exclude": [
    "module",
    "function",
    "builtin_function_or_method",
    "instance",
    "_Feature"
   ],
   "window_display": false
  }
 },
 "nbformat": 4,
 "nbformat_minor": 2
}
